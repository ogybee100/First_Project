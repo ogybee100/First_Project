{
 "cells": [
  {
   "cell_type": "code",
   "execution_count": 1,
   "id": "98a02d48",
   "metadata": {},
   "outputs": [
    {
     "name": "stdout",
     "output_type": "stream",
     "text": [
      "Data successfully loaded into SQL Server table.\n"
     ]
    }
   ],
   "source": [
    "import pyodbc\n",
    "import pandas as pd\n",
    "\n",
    "# Connection string\n",
    "connection_string = \"DRIVER={ODBC Driver 17 for SQL Server};SERVER=KAYCEE;DATABASE=LAB_4;Trusted_Connection=yes;\"\n",
    "\n",
    "# Connect to SQL Server\n",
    "conn = pyodbc.connect(connection_string)\n",
    "\n",
    "# Path to your CSV file\n",
    "csv_file = 'C:\\\\Users\\\\kelec\\\\AppData\\\\Local\\\\Programs\\\\Python\\\\Python312\\\\Python Data\\\\world_population_stats.csv'\n",
    "\n",
    "\n",
    "# Load the CSV data into a Pandas DataFrame\n",
    "df = pd.read_csv(csv_file)\n",
    "\n",
    "# Define the SQL query to insert data into the table\n",
    "insert_query = \"INSERT INTO WorldPopulationStats VALUES (?, ?, ?, ?, ?, ?, ?, ?, ?, ?, ?, ?, ?, ?, ?, ?, ?, ?, ?, ?, ?, ?, ?, ?, ?, ?, ?, ?, ?, ?)\"\n",
    "\n",
    "# Convert DataFrame rows to tuples for insertion\n",
    "data_to_insert = [tuple(row) for row in df.values]\n",
    "\n",
    "# Create a cursor and execute the insert query\n",
    "cursor = conn.cursor()\n",
    "cursor.executemany(insert_query, data_to_insert)\n",
    "\n",
    "# Commit the transaction\n",
    "conn.commit()\n",
    "\n",
    "# Close the cursor and connection\n",
    "cursor.close()\n",
    "conn.close()\n",
    "\n",
    "print(\"Data successfully loaded into SQL Server table.\")"
   ]
  },
  {
   "cell_type": "code",
   "execution_count": 5,
   "id": "261f87eb",
   "metadata": {},
   "outputs": [
    {
     "name": "stdout",
     "output_type": "stream",
     "text": [
      "Columns in the DataFrame: Index(['Country', 'Year', 'Total Population', 'Urban Population (%)',\n",
      "       'Rural Population (%)', 'Population Growth Rate (%)',\n",
      "       'Birth Rate (per 1000)', 'Death Rate (per 1000)', 'Net Migration Rate',\n",
      "       'Fertility Rate', 'Median Age', 'Age 0-14 (%)', 'Age 15-64 (%)',\n",
      "       'Age 65+ (%)', 'Life Expectancy',\n",
      "       'Infant Mortality Rate (per 1000 births)',\n",
      "       'Under-5 Mortality Rate (per 1000 births)', 'Adult Literacy Rate (%)',\n",
      "       'Primary School Enrollment (%)', 'Secondary School Enrollment (%)',\n",
      "       'Tertiary School Enrollment (%)', 'Unemployment Rate (%)',\n",
      "       'GDP per Capita (USD)', 'Poverty Rate (%)', 'Internet Users (%)',\n",
      "       'Cellphone Users (%)', 'Health Expenditure (% of GDP)',\n",
      "       'Education Expenditure (% of GDP)', 'Military Expenditure (% of GDP)',\n",
      "       'Carbon Emissions (metric tons per capita)'],\n",
      "      dtype='object')\n",
      "First few rows of the DataFrame:\n",
      "     Country  Year  Total Population  Urban Population (%)  \\\n",
      "0  Country 1  2019           6596429                  74.8   \n",
      "1  Country 2  2022          76116823                  34.1   \n",
      "2  Country 3  2019         176948115                  31.4   \n",
      "3  Country 4  2021           6842433                  19.3   \n",
      "4  Country 5  2018         174279422                  40.6   \n",
      "\n",
      "   Rural Population (%)  Population Growth Rate (%)  Birth Rate (per 1000)  \\\n",
      "0                  25.2                    0.693590                   38.8   \n",
      "1                  65.9                    0.833872                   27.1   \n",
      "2                  68.6                    0.394382                   10.7   \n",
      "3                  80.7                    0.717802                   24.2   \n",
      "4                  59.4                    0.549853                   17.7   \n",
      "\n",
      "   Death Rate (per 1000)  Net Migration Rate  Fertility Rate  ...  \\\n",
      "0                    5.6            0.518482        0.065225  ...   \n",
      "1                   11.6            0.779038        0.700460  ...   \n",
      "2                   13.2            0.494670        0.021110  ...   \n",
      "3                    7.1            0.052278        0.538846  ...   \n",
      "4                   17.5            0.914659        0.382094  ...   \n",
      "\n",
      "   Tertiary School Enrollment (%)  Unemployment Rate (%)  \\\n",
      "0                        0.795096               0.563773   \n",
      "1                        0.730866               0.032638   \n",
      "2                        0.350152               0.673294   \n",
      "3                        0.130094               0.997328   \n",
      "4                        0.292544               0.807929   \n",
      "\n",
      "   GDP per Capita (USD)  Poverty Rate (%)  Internet Users (%)  \\\n",
      "0              0.465910          0.362270            0.363813   \n",
      "1              0.904026          0.696984            0.358063   \n",
      "2              0.920061          0.783451            0.805937   \n",
      "3              0.494668          0.625874            0.929213   \n",
      "4              0.620724          0.046058            0.542884   \n",
      "\n",
      "   Cellphone Users (%)  Health Expenditure (% of GDP)  \\\n",
      "0             0.826026                       0.958574   \n",
      "1             0.065086                       0.669110   \n",
      "2             0.321876                       0.202621   \n",
      "3             0.119077                       0.449040   \n",
      "4             0.039881                       0.665890   \n",
      "\n",
      "   Education Expenditure (% of GDP)  Military Expenditure (% of GDP)  \\\n",
      "0                          0.031112                         0.163694   \n",
      "1                          0.669744                         0.749683   \n",
      "2                          0.115683                         0.384378   \n",
      "3                          0.933302                         0.188532   \n",
      "4                          0.908892                         0.776844   \n",
      "\n",
      "   Carbon Emissions (metric tons per capita)  \n",
      "0                                   0.456804  \n",
      "1                                   0.148649  \n",
      "2                                   0.894984  \n",
      "3                                   0.186902  \n",
      "4                                   0.513459  \n",
      "\n",
      "[5 rows x 30 columns]\n"
     ]
    }
   ],
   "source": [
    "import pandas as pd\n",
    "\n",
    "# Load the dataset\n",
    "file_path = 'C:\\\\Users\\\\kelec\\\\AppData\\\\Local\\\\Programs\\\\Python\\\\Python312\\\\Python Data\\\\world_population_stats.csv'\n",
    "data = pd.read_csv(file_path)\n",
    "\n",
    "# Print out the column names\n",
    "print(\"Columns in the DataFrame:\", data.columns)\n",
    "\n",
    "# Display the first few rows of the DataFrame\n",
    "print(\"First few rows of the DataFrame:\")\n",
    "print(data.head())\n"
   ]
  },
  {
   "cell_type": "code",
   "execution_count": 6,
   "id": "de2a4fd7",
   "metadata": {},
   "outputs": [
    {
     "name": "stdout",
     "output_type": "stream",
     "text": [
      "Mean Squared Error: 0.06717523539369126\n",
      "R-squared: -0.13452250196741677\n"
     ]
    }
   ],
   "source": [
    "#fixed code \n",
    "import pandas as pd\n",
    "from sklearn.model_selection import train_test_split\n",
    "from sklearn.linear_model import LinearRegression\n",
    "from sklearn.metrics import mean_squared_error, r2_score\n",
    "\n",
    "# Load the dataset\n",
    "file_path = 'C:\\\\Users\\\\kelec\\\\AppData\\\\Local\\\\Programs\\\\Python\\\\Python312\\\\Python Data\\\\world_population_stats.csv'\n",
    "df = pd.read_csv(file_path)\n",
    "\n",
    "# Prepare the features and target variable\n",
    "X = df[['Urban Population (%)', 'Life Expectancy', 'Adult Literacy Rate (%)']]\n",
    "y = df['GDP per Capita (USD)']\n",
    "\n",
    "# Split the data into training and testing datasets\n",
    "X_train, X_test, y_train, y_test = train_test_split(X, y, test_size=0.2, random_state=42)\n",
    "\n",
    "# Create and train the linear regression model\n",
    "model = LinearRegression()\n",
    "model.fit(X_train, y_train)\n",
    "\n",
    "# Make predictions\n",
    "y_pred = model.predict(X_test)\n",
    "\n",
    "# Evaluate the model's performance\n",
    "mse = mean_squared_error(y_test, y_pred)\n",
    "r2 = r2_score(y_test, y_pred)\n",
    "\n",
    "print(f'Mean Squared Error: {mse}')\n",
    "print(f'R-squared: {r2}')\n"
   ]
  },
  {
   "cell_type": "code",
   "execution_count": null,
   "id": "f2e68394",
   "metadata": {},
   "outputs": [],
   "source": [
    "#python -m pip install tensorflow\n"
   ]
  },
  {
   "cell_type": "code",
   "execution_count": 7,
   "id": "5ab3f591",
   "metadata": {},
   "outputs": [
    {
     "name": "stdout",
     "output_type": "stream",
     "text": [
      "TensorFlow version: 2.16.1\n"
     ]
    }
   ],
   "source": [
    "import tensorflow as tf\n",
    "\n",
    "print(\"TensorFlow version:\", tf.__version__)\n"
   ]
  }
 ],
 "metadata": {
  "kernelspec": {
   "display_name": "Python 3 (ipykernel)",
   "language": "python",
   "name": "python3"
  },
  "language_info": {
   "codemirror_mode": {
    "name": "ipython",
    "version": 3
   },
   "file_extension": ".py",
   "mimetype": "text/x-python",
   "name": "python",
   "nbconvert_exporter": "python",
   "pygments_lexer": "ipython3",
   "version": "3.12.1"
  }
 },
 "nbformat": 4,
 "nbformat_minor": 5
}
